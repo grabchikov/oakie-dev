{
 "cells": [
  {
   "cell_type": "code",
   "execution_count": 3,
   "id": "034cfc5b-c28e-4e4e-8279-b3e0cb8aae8d",
   "metadata": {},
   "outputs": [],
   "source": [
    "import os\n",
    "os.chdir(\"C:/.Upwork Projects/2025-06-11 Fin Adviser MVP/PythonJSONGenerator\")"
   ]
  },
  {
   "cell_type": "code",
   "execution_count": 8,
   "id": "256bf821-f13a-431b-be17-6fbe26996ddc",
   "metadata": {},
   "outputs": [
    {
     "name": "stdout",
     "output_type": "stream",
     "text": [
      "C:\\Users\\pgrab\\anaconda3\\python.exe\n"
     ]
    }
   ],
   "source": [
    "import sys\n",
    "print(sys.executable)"
   ]
  },
  {
   "cell_type": "code",
   "execution_count": 5,
   "id": "83b3a696-1d51-4e81-8f16-d60369853aa2",
   "metadata": {},
   "outputs": [
    {
     "name": "stdout",
     "output_type": "stream",
     "text": [
      "Requirement already satisfied: faker in c:\\users\\pgrab\\anaconda3\\envs\\dummyjsongeneratoroakie\\lib\\site-packages (37.3.0)\n",
      "Requirement already satisfied: pandas in c:\\users\\pgrab\\anaconda3\\envs\\dummyjsongeneratoroakie\\lib\\site-packages (2.2.3)\n",
      "Requirement already satisfied: numpy in c:\\users\\pgrab\\anaconda3\\envs\\dummyjsongeneratoroakie\\lib\\site-packages (2.2.5)\n",
      "Requirement already satisfied: tzdata in c:\\users\\pgrab\\anaconda3\\envs\\dummyjsongeneratoroakie\\lib\\site-packages (from faker) (2025.2)\n",
      "Requirement already satisfied: python-dateutil>=2.8.2 in c:\\users\\pgrab\\appdata\\roaming\\python\\python312\\site-packages (from pandas) (2.9.0.post0)\n",
      "Requirement already satisfied: pytz>=2020.1 in c:\\users\\pgrab\\anaconda3\\envs\\dummyjsongeneratoroakie\\lib\\site-packages (from pandas) (2024.1)\n",
      "Requirement already satisfied: six>=1.5 in c:\\users\\pgrab\\appdata\\roaming\\python\\python312\\site-packages (from python-dateutil>=2.8.2->pandas) (1.16.0)\n"
     ]
    },
    {
     "name": "stderr",
     "output_type": "stream",
     "text": [
      "\n",
      "[notice] A new release of pip is available: 24.3.1 -> 25.1.1\n",
      "[notice] To update, run: python.exe -m pip install --upgrade pip\n"
     ]
    }
   ],
   "source": [
    "# Uncomment and run if you haven't already installed these\n",
    "!pip install faker pandas numpy\n"
   ]
  },
  {
   "cell_type": "code",
   "execution_count": 1,
   "id": "ef731d25-0d5c-4767-a88c-d247b9162e32",
   "metadata": {},
   "outputs": [],
   "source": [
    "import os\n",
    "import json\n",
    "import random\n",
    "import string\n",
    "from datetime import datetime, timedelta\n",
    "from faker import Faker\n",
    "import numpy as np\n",
    "import pandas as pd\n",
    "\n",
    "fake = Faker()\n",
    "random.seed(42)\n"
   ]
  },
  {
   "cell_type": "code",
   "execution_count": 2,
   "id": "28b0486f-d0f2-4062-b8e0-4fb41c00e365",
   "metadata": {},
   "outputs": [],
   "source": [
    "NUM_COMPANIES = 100\n",
    "OUTPUT_DIR = \"output\"\n",
    "DETAILS_DIR = os.path.join(OUTPUT_DIR, \"details\")\n",
    "os.makedirs(DETAILS_DIR, exist_ok=True)\n",
    "\n",
    "INDUSTRIES = [\n",
    "    \"Technology\", \"Finance\", \"Healthcare\", \"Retail\", \"Energy\", \"Telecommunications\",\n",
    "    \"Real Estate\", \"Transportation\", \"Consumer Goods\", \"Utilities\"\n",
    "]\n"
   ]
  },
  {
   "cell_type": "code",
   "execution_count": 8,
   "id": "dc81a698-5d44-417d-9529-b923b1398457",
   "metadata": {},
   "outputs": [],
   "source": [
    "def random_ticker():\n",
    "    return ''.join(random.choices(string.ascii_uppercase, k=random.randint(3, 5)))\n",
    "\n",
    "def generate_company_summary():\n",
    "    name = fake.company()\n",
    "    ticker = random_ticker()\n",
    "    industry = random.choice(INDUSTRIES)\n",
    "    market_cap = f\"{round(random.uniform(10, 2000), 1)}\"\n",
    "    current_price = round(random.uniform(10, 500), 2)\n",
    "    intrinsic_min = round(current_price * random.uniform(0.9, 1.0), 2)\n",
    "    intrinsic_max = round(current_price * random.uniform(1.0, 1.1), 2)\n",
    "    return {\n",
    "        \"companyName\": name,\n",
    "        \"ticker\": ticker,\n",
    "        \"marketCap\": market_cap,\n",
    "        \"industry\": industry,\n",
    "        \"currentPrice\": current_price,\n",
    "        \"intrinsicPrice\": {\n",
    "            \"min\": intrinsic_min,\n",
    "            \"max\": intrinsic_max\n",
    "        }\n",
    "    }\n"
   ]
  },
  {
   "cell_type": "code",
   "execution_count": 9,
   "id": "8961a46c-a3db-45e3-9285-6c4bdccbbf49",
   "metadata": {},
   "outputs": [],
   "source": [
    "def generate_stock_prices(current_price):\n",
    "    base = current_price\n",
    "    dates = [datetime.today() - timedelta(days=i) for i in range(365)]\n",
    "    dates.reverse()\n",
    "    prices = []\n",
    "    for date in dates:\n",
    "        base += random.uniform(-1.5, 1.5)\n",
    "        base = max(5, base)\n",
    "        prices.append({\n",
    "            \"date\": date.strftime(\"%Y-%m-%d\"),\n",
    "            \"price\": round(base + random.uniform(-0.5, 0.5), 2)\n",
    "        })\n",
    "    return prices\n"
   ]
  },
  {
   "cell_type": "code",
   "execution_count": 23,
   "id": "3f073f43-c668-403c-afa5-f8345850513a",
   "metadata": {},
   "outputs": [],
   "source": [
    "def generate_intrinsic_estimates(prices):\n",
    "    quarters = [\n",
    "        (\"Q1\", \"2024-01-01\", \"2024-04-01\"),\n",
    "        (\"Q2\", \"2024-04-01\", \"2024-07-01\"),\n",
    "        (\"Q3\", \"2024-07-01\", \"2024-10-01\"),\n",
    "        (\"Q4\", \"2024-10-01\", \"2025-01-01\"),\n",
    "          (\"Q5\", \"2025-01-01\", \"2025-04-01\"),\n",
    "        (\"Q6\", \"2025-04-01\", \"2025-06-30\"),\n",
    "    ]\n",
    "    estimates = []\n",
    "    for q, start, end in quarters:\n",
    "        avg_price = np.mean([p['price'] for p in prices])\n",
    "        min_val = round(avg_price * random.uniform(0.95, 1.0), 2)\n",
    "        max_val = round(avg_price * random.uniform(1.0, 1.05), 2)\n",
    "        estimates.append({\n",
    "            \"period\": q,\n",
    "            \"startDate\": start,\n",
    "            \"endDate\": end,\n",
    "            \"min\": min_val,\n",
    "            \"max\": max_val\n",
    "        })\n",
    "    return estimates\n"
   ]
  },
  {
   "cell_type": "code",
   "execution_count": 24,
   "id": "a25cc5c2-979c-4472-861c-daec71fa33e3",
   "metadata": {},
   "outputs": [],
   "source": [
    "def generate_evaluation_metrics():\n",
    "    metrics_config = {\n",
    "        \"P/E\": {\n",
    "            \"description\": \"Price-to-Earnings Ratio\",\n",
    "            \"range\": (5, 40),\n",
    "            \"label_fn\": lambda v: \"good\" if v < 15 else \"neutral\" if v < 25 else \"bad\"\n",
    "        },\n",
    "        \"ROE\": {\n",
    "            \"description\": \"Return on Equity\",\n",
    "            \"range\": (0.02, 0.25),\n",
    "            \"label_fn\": lambda v: \"good\" if v > 0.15 else \"neutral\" if v > 0.08 else \"bad\"\n",
    "        },\n",
    "        \"Debt/Equity\": {\n",
    "            \"description\": \"Debt-to-Equity Ratio\",\n",
    "            \"range\": (0.1, 3),\n",
    "            \"label_fn\": lambda v: \"good\" if v < 1 else \"neutral\" if v < 2 else \"bad\"\n",
    "        },\n",
    "        \"Current Ratio\": {\n",
    "            \"description\": \"Current Assets / Current Liabilities\",\n",
    "            \"range\": (0.8, 3),\n",
    "            \"label_fn\": lambda v: \"good\" if v > 1.5 else \"neutral\" if v > 1 else \"bad\"\n",
    "        },\n",
    "        \"Margin\": {\n",
    "            \"description\": \"Net Profit Margin\",\n",
    "            \"range\": (0.05, 0.3),\n",
    "            \"label_fn\": lambda v: \"good\" if v > 0.2 else \"neutral\" if v > 0.1 else \"bad\"\n",
    "        },\n",
    "        \"Beta\": {\n",
    "            \"description\": \"Volatility Compared to Market\",\n",
    "            \"range\": (0.6, 1.8),\n",
    "            \"label_fn\": lambda v: \"good\" if v < 1 else \"neutral\" if v < 1.3 else \"bad\"\n",
    "        },\n",
    "        \"PBV\": {\n",
    "            \"description\": \"Price-to-Book Value\",\n",
    "            \"range\": (0.5, 8),\n",
    "            \"label_fn\": lambda v: \"good\" if v < 3 else \"neutral\" if v < 5 else \"bad\"\n",
    "        },\n",
    "        \"Dividend Yield\": {\n",
    "            \"description\": \"Annual Dividends / Share Price\",\n",
    "            \"range\": (0.0, 0.06),\n",
    "            \"label_fn\": lambda v: \"good\" if v > 0.03 else \"neutral\" if v > 0.01 else \"bad\"\n",
    "        }\n",
    "    }\n",
    "\n",
    "    years = [2022, 2023, 2024]\n",
    "    metrics_list = []\n",
    "\n",
    "    for name, config in metrics_config.items():\n",
    "        values = []\n",
    "        for year in years:\n",
    "            value = round(random.uniform(*config[\"range\"]), 3)\n",
    "            label = config[\"label_fn\"](value)\n",
    "            values.append({\n",
    "                \"year\": year,\n",
    "                \"value\": value,\n",
    "                \"label\": label\n",
    "            })\n",
    "        metrics_list.append({\n",
    "            \"name\": name,\n",
    "            \"description\": config[\"description\"],\n",
    "            \"values\": values\n",
    "        })\n",
    "\n",
    "    return metrics_list\n"
   ]
  },
  {
   "cell_type": "code",
   "execution_count": 25,
   "id": "0e7a10af-8f5f-45f8-8075-0614c8e73c66",
   "metadata": {
    "scrolled": true
   },
   "outputs": [
    {
     "name": "stdout",
     "output_type": "stream",
     "text": [
      "✅ Done! Files are saved in the 'output' folder.\n"
     ]
    }
   ],
   "source": [
    "company_summaries = []\n",
    "\n",
    "for _ in range(NUM_COMPANIES):\n",
    "    summary = generate_company_summary()\n",
    "    company_summaries.append(summary)\n",
    "\n",
    "    daily_prices = generate_stock_prices(summary[\"currentPrice\"])\n",
    "    \n",
    "    details = {\n",
    "        \"companyName\": summary[\"companyName\"],\n",
    "        \"description\": fake.text(max_nb_chars=300),\n",
    "        \"dailyStockPrice\": daily_prices,\n",
    "        \"intrinsicValueEstimates\": generate_intrinsic_estimates(daily_prices),\n",
    "        \"evaluationMetrics\": generate_evaluation_metrics()\n",
    "    }\n",
    "\n",
    "    ticker_file = os.path.join(DETAILS_DIR, f\"{summary['ticker'].lower()}.json\")\n",
    "    with open(ticker_file, \"w\") as f:\n",
    "        json.dump(details, f, indent=2)\n",
    "\n",
    "with open(os.path.join(OUTPUT_DIR, \"companies-list.json\"), \"w\") as f:\n",
    "    json.dump(company_summaries, f, indent=2)\n",
    "\n",
    "print(\"✅ Done! Files are saved in the 'output' folder.\")\n"
   ]
  }
 ],
 "metadata": {
  "kernelspec": {
   "display_name": "Python (financial-data)",
   "language": "python",
   "name": "financial-data"
  },
  "language_info": {
   "codemirror_mode": {
    "name": "ipython",
    "version": 3
   },
   "file_extension": ".py",
   "mimetype": "text/x-python",
   "name": "python",
   "nbconvert_exporter": "python",
   "pygments_lexer": "ipython3",
   "version": "3.12.11"
  }
 },
 "nbformat": 4,
 "nbformat_minor": 5
}
